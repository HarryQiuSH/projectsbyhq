{
  "nbformat": 4,
  "nbformat_minor": 0,
  "metadata": {
    "colab": {
      "name": "Spark Video Recommendation System .ipynb",
      "provenance": []
    },
    "kernelspec": {
      "name": "python3",
      "display_name": "Python 3"
    },
    "accelerator": "GPU"
  },
  "cells": [
    {
      "cell_type": "markdown",
      "metadata": {
        "id": "sBD0yaToa1H8"
      },
      "source": [
        "# Spark Setup "
      ]
    },
    {
      "cell_type": "code",
      "metadata": {
        "id": "_tom4uTYxDfd",
        "colab": {
          "base_uri": "https://localhost:8080/"
        },
        "outputId": "72e2118a-f505-409e-ef88-2d1ddd7e060e"
      },
      "source": [
        "!apt-get update\n",
        "!apt-get install openjdk-8-jdk-headless -qq > /dev/null\n"
      ],
      "execution_count": null,
      "outputs": [
        {
          "output_type": "stream",
          "name": "stdout",
          "text": [
            "Get:1 http://security.ubuntu.com/ubuntu bionic-security InRelease [88.7 kB]\n",
            "Get:2 https://cloud.r-project.org/bin/linux/ubuntu bionic-cran40/ InRelease [3,626 B]\n",
            "Ign:3 https://developer.download.nvidia.com/compute/cuda/repos/ubuntu1804/x86_64  InRelease\n",
            "Get:4 http://ppa.launchpad.net/c2d4u.team/c2d4u4.0+/ubuntu bionic InRelease [15.9 kB]\n",
            "Hit:5 http://archive.ubuntu.com/ubuntu bionic InRelease\n",
            "Ign:6 https://developer.download.nvidia.com/compute/machine-learning/repos/ubuntu1804/x86_64  InRelease\n",
            "Get:7 https://developer.download.nvidia.com/compute/cuda/repos/ubuntu1804/x86_64  Release [696 B]\n",
            "Hit:8 https://developer.download.nvidia.com/compute/machine-learning/repos/ubuntu1804/x86_64  Release\n",
            "Get:9 https://developer.download.nvidia.com/compute/cuda/repos/ubuntu1804/x86_64  Release.gpg [836 B]\n",
            "Get:10 http://archive.ubuntu.com/ubuntu bionic-updates InRelease [88.7 kB]\n",
            "Hit:11 http://ppa.launchpad.net/cran/libgit2/ubuntu bionic InRelease\n",
            "Get:12 http://archive.ubuntu.com/ubuntu bionic-backports InRelease [74.6 kB]\n",
            "Hit:13 http://ppa.launchpad.net/deadsnakes/ppa/ubuntu bionic InRelease\n",
            "Get:14 http://security.ubuntu.com/ubuntu bionic-security/universe amd64 Packages [1,466 kB]\n",
            "Get:15 http://ppa.launchpad.net/graphics-drivers/ppa/ubuntu bionic InRelease [21.3 kB]\n",
            "Get:16 http://security.ubuntu.com/ubuntu bionic-security/restricted amd64 Packages [781 kB]\n",
            "Get:17 http://security.ubuntu.com/ubuntu bionic-security/main amd64 Packages [2,559 kB]\n",
            "Get:18 http://security.ubuntu.com/ubuntu bionic-security/multiverse amd64 Packages [21.1 kB]\n",
            "Get:20 https://developer.download.nvidia.com/compute/cuda/repos/ubuntu1804/x86_64  Packages [917 kB]\n",
            "Get:21 http://ppa.launchpad.net/c2d4u.team/c2d4u4.0+/ubuntu bionic/main Sources [1,825 kB]\n",
            "Get:22 http://archive.ubuntu.com/ubuntu bionic-updates/main amd64 Packages [3,000 kB]\n",
            "Get:23 http://ppa.launchpad.net/c2d4u.team/c2d4u4.0+/ubuntu bionic/main amd64 Packages [935 kB]\n",
            "Get:24 http://archive.ubuntu.com/ubuntu bionic-updates/multiverse amd64 Packages [29.0 kB]\n",
            "Get:25 http://archive.ubuntu.com/ubuntu bionic-updates/universe amd64 Packages [2,247 kB]\n",
            "Get:26 http://archive.ubuntu.com/ubuntu bionic-updates/restricted amd64 Packages [814 kB]\n",
            "Get:27 http://ppa.launchpad.net/graphics-drivers/ppa/ubuntu bionic/main amd64 Packages [42.8 kB]\n",
            "Fetched 14.9 MB in 4s (3,800 kB/s)\n",
            "Reading package lists... Done\n"
          ]
        }
      ]
    },
    {
      "cell_type": "markdown",
      "metadata": {
        "id": "yAhR2NzHaes4"
      },
      "source": [
        ""
      ]
    },
    {
      "cell_type": "markdown",
      "metadata": {
        "id": "BWjF_fe2ah_p"
      },
      "source": [
        "### https://spark.apache.org/downloads.html"
      ]
    },
    {
      "cell_type": "code",
      "source": [
        "!ls\n",
        "!mkdir test\n",
        "!rm -r test"
      ],
      "metadata": {
        "colab": {
          "base_uri": "https://localhost:8080/"
        },
        "id": "Npoj2FJ0qcSt",
        "outputId": "a26f12ef-9f22-4eea-b71c-19f2e73aacff"
      },
      "execution_count": null,
      "outputs": [
        {
          "output_type": "stream",
          "name": "stdout",
          "text": [
            "sample_data\n"
          ]
        }
      ]
    },
    {
      "cell_type": "code",
      "metadata": {
        "id": "sb_93Kxg3YSa",
        "colab": {
          "base_uri": "https://localhost:8080/"
        },
        "outputId": "b9bd8711-6fbc-4ab5-d36d-23268c28a51c"
      },
      "source": [
        "!wget -q https://apache.osuosl.org/spark/spark-3.1.2/spark-3.1.2-bin-hadoop3.2.tgz\n",
        "!ls\n"
      ],
      "execution_count": null,
      "outputs": [
        {
          "output_type": "stream",
          "name": "stdout",
          "text": [
            "sample_data  spark-3.1.2-bin-hadoop3.2.tgz\n"
          ]
        }
      ]
    },
    {
      "cell_type": "code",
      "metadata": {
        "id": "XDnE-ndgAYPl"
      },
      "source": [
        "!tar xf spark-3.1.2-bin-hadoop3.2.tgz"
      ],
      "execution_count": null,
      "outputs": []
    },
    {
      "cell_type": "code",
      "metadata": {
        "colab": {
          "base_uri": "https://localhost:8080/"
        },
        "id": "oIH80m_aghHY",
        "outputId": "793c4d50-6d0a-4ab1-ac2c-226dea08a8f5"
      },
      "source": [
        "!pwd\n",
        "!ls /content/"
      ],
      "execution_count": null,
      "outputs": [
        {
          "output_type": "stream",
          "name": "stdout",
          "text": [
            "/content\n",
            "sample_data  spark-3.1.2-bin-hadoop3.2\tspark-3.1.2-bin-hadoop3.2.tgz\n"
          ]
        }
      ]
    },
    {
      "cell_type": "markdown",
      "metadata": {
        "id": "KydaNyyvbKKB"
      },
      "source": [
        "# Install Spark"
      ]
    },
    {
      "cell_type": "code",
      "metadata": {
        "id": "NWZILV2Vpht9",
        "colab": {
          "base_uri": "https://localhost:8080/"
        },
        "outputId": "5c48189d-c0b7-47e2-e9c3-f6335ff5bb5b"
      },
      "source": [
        "# Set up Spark\n",
        "!pip install -q findspark\n",
        "!pip install py4j\n",
        "\n",
        "!export JAVA_HOME=$(/usr/lib/jvm/java-8-openjdk-amd64 -v 1.8)\n",
        "! echo $JAVA_HOME\n",
        "import os\n",
        "os.environ[\"JAVA_HOME\"] = \"/usr/lib/jvm/java-8-openjdk-amd64\"\n",
        "os.environ[\"SPARK_HOME\"] = \"/content/spark-3.1.2-bin-hadoop3.2\"\n",
        "import findspark\n",
        "findspark.init(\"spark-3.1.2-bin-hadoop3.2\")# SPARK_HOME\n",
        "\n",
        "from pyspark.sql import SparkSession\n",
        "spark = SparkSession.builder.master(\"local[*]\").getOrCreate()"
      ],
      "execution_count": null,
      "outputs": [
        {
          "output_type": "stream",
          "name": "stdout",
          "text": [
            "Collecting py4j\n",
            "  Downloading py4j-0.10.9.3-py2.py3-none-any.whl (198 kB)\n",
            "\u001b[?25l\r\u001b[K     |█▋                              | 10 kB 30.9 MB/s eta 0:00:01\r\u001b[K     |███▎                            | 20 kB 16.9 MB/s eta 0:00:01\r\u001b[K     |█████                           | 30 kB 9.5 MB/s eta 0:00:01\r\u001b[K     |██████▋                         | 40 kB 8.2 MB/s eta 0:00:01\r\u001b[K     |████████▎                       | 51 kB 5.1 MB/s eta 0:00:01\r\u001b[K     |█████████▉                      | 61 kB 5.2 MB/s eta 0:00:01\r\u001b[K     |███████████▌                    | 71 kB 5.3 MB/s eta 0:00:01\r\u001b[K     |█████████████▏                  | 81 kB 6.0 MB/s eta 0:00:01\r\u001b[K     |██████████████▉                 | 92 kB 6.0 MB/s eta 0:00:01\r\u001b[K     |████████████████▌               | 102 kB 5.0 MB/s eta 0:00:01\r\u001b[K     |██████████████████▏             | 112 kB 5.0 MB/s eta 0:00:01\r\u001b[K     |███████████████████▊            | 122 kB 5.0 MB/s eta 0:00:01\r\u001b[K     |█████████████████████▍          | 133 kB 5.0 MB/s eta 0:00:01\r\u001b[K     |███████████████████████         | 143 kB 5.0 MB/s eta 0:00:01\r\u001b[K     |████████████████████████▊       | 153 kB 5.0 MB/s eta 0:00:01\r\u001b[K     |██████████████████████████▍     | 163 kB 5.0 MB/s eta 0:00:01\r\u001b[K     |████████████████████████████    | 174 kB 5.0 MB/s eta 0:00:01\r\u001b[K     |█████████████████████████████▋  | 184 kB 5.0 MB/s eta 0:00:01\r\u001b[K     |███████████████████████████████▎| 194 kB 5.0 MB/s eta 0:00:01\r\u001b[K     |████████████████████████████████| 198 kB 5.0 MB/s \n",
            "\u001b[?25hInstalling collected packages: py4j\n",
            "Successfully installed py4j-0.10.9.3\n",
            "/bin/bash: /usr/lib/jvm/java-8-openjdk-amd64: Is a directory\n",
            "\n"
          ]
        }
      ]
    },
    {
      "cell_type": "markdown",
      "metadata": {
        "id": "M9R8OKuBnAzu"
      },
      "source": [
        ""
      ]
    },
    {
      "cell_type": "code",
      "metadata": {
        "id": "jKTeRLPiqx_W",
        "colab": {
          "base_uri": "https://localhost:8080/"
        },
        "outputId": "90aa564e-d3c6-404f-e9a9-757088279f64"
      },
      "source": [
        "!ls"
      ],
      "execution_count": null,
      "outputs": [
        {
          "output_type": "stream",
          "name": "stdout",
          "text": [
            "sample_data  spark-3.1.2-bin-hadoop3.2\tspark-3.1.2-bin-hadoop3.2.tgz\n"
          ]
        }
      ]
    },
    {
      "cell_type": "code",
      "metadata": {
        "id": "EYh_tv1ErseU",
        "colab": {
          "base_uri": "https://localhost:8080/",
          "height": 35
        },
        "outputId": "4c42f81d-d5a0-40a2-f687-4a95f64f8547"
      },
      "source": [
        "spark.version"
      ],
      "execution_count": null,
      "outputs": [
        {
          "output_type": "execute_result",
          "data": {
            "application/vnd.google.colaboratory.intrinsic+json": {
              "type": "string"
            },
            "text/plain": [
              "'3.1.2'"
            ]
          },
          "metadata": {},
          "execution_count": 8
        }
      ]
    },
    {
      "cell_type": "markdown",
      "metadata": {
        "id": "7oWz67k3j6sI"
      },
      "source": [
        "# Read data from your machine"
      ]
    },
    {
      "cell_type": "code",
      "metadata": {
        "id": "CbsoaAHha_GN",
        "colab": {
          "resources": {
            "http://localhost:8080/nbextensions/google.colab/files.js": {
              "data": "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",
              "ok": true,
              "headers": [
                [
                  "content-type",
                  "application/javascript"
                ]
              ],
              "status": 200,
              "status_text": ""
            }
          },
          "base_uri": "https://localhost:8080/",
          "height": 38
        },
        "outputId": "2b56090b-1fc4-4b41-c657-8ed79ec23bc7"
      },
      "source": [
        "from google.colab import files\n",
        "\n",
        "uploaded = files.upload()\n",
        "\n",
        "for fn in uploaded.keys():\n",
        "  print('User uploaded file \"{name}\" with length {length} bytes'.format(\n",
        "      name=fn, length=len(uploaded[fn])))"
      ],
      "execution_count": null,
      "outputs": [
        {
          "output_type": "display_data",
          "data": {
            "text/html": [
              "\n",
              "     <input type=\"file\" id=\"files-bf93bc34-e1ca-4a2d-a1a1-f2459bcbdc32\" name=\"files[]\" multiple disabled\n",
              "        style=\"border:none\" />\n",
              "     <output id=\"result-bf93bc34-e1ca-4a2d-a1a1-f2459bcbdc32\">\n",
              "      Upload widget is only available when the cell has been executed in the\n",
              "      current browser session. Please rerun this cell to enable.\n",
              "      </output>\n",
              "      <script src=\"/nbextensions/google.colab/files.js\"></script> "
            ],
            "text/plain": [
              "<IPython.core.display.HTML object>"
            ]
          },
          "metadata": {}
        }
      ]
    },
    {
      "cell_type": "code",
      "metadata": {
        "id": "Jnj9YdHgblza",
        "colab": {
          "base_uri": "https://localhost:8080/"
        },
        "outputId": "76e4bb25-7bc3-4957-cf8c-13d78618eef3"
      },
      "source": [
        "!ls sample_data"
      ],
      "execution_count": null,
      "outputs": [
        {
          "output_type": "stream",
          "name": "stdout",
          "text": [
            "anscombe.json\t\t      mnist_test.csv\n",
            "california_housing_test.csv   mnist_train_small.csv\n",
            "california_housing_train.csv  README.md\n"
          ]
        }
      ]
    },
    {
      "cell_type": "code",
      "metadata": {
        "id": "3FdwkP13jJJZ",
        "colab": {
          "base_uri": "https://localhost:8080/"
        },
        "outputId": "2d30a1b6-1cf8-4ee3-8758-615659fe7eb7"
      },
      "source": [
        "import os \n",
        "os.listdir('./sample_data')"
      ],
      "execution_count": null,
      "outputs": [
        {
          "output_type": "execute_result",
          "data": {
            "text/plain": [
              "['anscombe.json',\n",
              " 'README.md',\n",
              " 'mnist_train_small.csv',\n",
              " 'mnist_test.csv',\n",
              " 'california_housing_train.csv',\n",
              " 'california_housing_test.csv']"
            ]
          },
          "metadata": {},
          "execution_count": 27
        }
      ]
    },
    {
      "cell_type": "code",
      "metadata": {
        "id": "Ue1XU8lDb-ED"
      },
      "source": [
        "dataset = spark.read.csv('./sample_data/california_housing_train.csv',inferSchema=True, header =True)"
      ],
      "execution_count": null,
      "outputs": []
    },
    {
      "cell_type": "code",
      "metadata": {
        "id": "aZeXBQYejZAA",
        "colab": {
          "base_uri": "https://localhost:8080/"
        },
        "outputId": "4cc93264-5de4-43bd-ecff-c1060e1cddc1"
      },
      "source": [
        "dataset.printSchema()"
      ],
      "execution_count": null,
      "outputs": [
        {
          "output_type": "stream",
          "name": "stdout",
          "text": [
            "root\n",
            " |-- longitude: double (nullable = true)\n",
            " |-- latitude: double (nullable = true)\n",
            " |-- housing_median_age: double (nullable = true)\n",
            " |-- total_rooms: double (nullable = true)\n",
            " |-- total_bedrooms: double (nullable = true)\n",
            " |-- population: double (nullable = true)\n",
            " |-- households: double (nullable = true)\n",
            " |-- median_income: double (nullable = true)\n",
            " |-- median_house_value: double (nullable = true)\n",
            "\n"
          ]
        }
      ]
    },
    {
      "cell_type": "code",
      "metadata": {
        "id": "3_7W8Ii6hJrb"
      },
      "source": [
        "\n",
        "dataset.registerTempTable(\"test\")"
      ],
      "execution_count": null,
      "outputs": []
    },
    {
      "cell_type": "code",
      "metadata": {
        "id": "_zSM1RsjhoI9",
        "colab": {
          "base_uri": "https://localhost:8080/"
        },
        "outputId": "347a58ec-1190-4e88-8330-7c2b63fc3bb7"
      },
      "source": [
        "dataset.show()"
      ],
      "execution_count": null,
      "outputs": [
        {
          "output_type": "stream",
          "name": "stdout",
          "text": [
            "+---------+--------+------------------+-----------+--------------+----------+----------+-------------+------------------+\n",
            "|longitude|latitude|housing_median_age|total_rooms|total_bedrooms|population|households|median_income|median_house_value|\n",
            "+---------+--------+------------------+-----------+--------------+----------+----------+-------------+------------------+\n",
            "|  -114.31|   34.19|              15.0|     5612.0|        1283.0|    1015.0|     472.0|       1.4936|           66900.0|\n",
            "|  -114.47|    34.4|              19.0|     7650.0|        1901.0|    1129.0|     463.0|         1.82|           80100.0|\n",
            "|  -114.56|   33.69|              17.0|      720.0|         174.0|     333.0|     117.0|       1.6509|           85700.0|\n",
            "|  -114.57|   33.64|              14.0|     1501.0|         337.0|     515.0|     226.0|       3.1917|           73400.0|\n",
            "|  -114.57|   33.57|              20.0|     1454.0|         326.0|     624.0|     262.0|        1.925|           65500.0|\n",
            "|  -114.58|   33.63|              29.0|     1387.0|         236.0|     671.0|     239.0|       3.3438|           74000.0|\n",
            "|  -114.58|   33.61|              25.0|     2907.0|         680.0|    1841.0|     633.0|       2.6768|           82400.0|\n",
            "|  -114.59|   34.83|              41.0|      812.0|         168.0|     375.0|     158.0|       1.7083|           48500.0|\n",
            "|  -114.59|   33.61|              34.0|     4789.0|        1175.0|    3134.0|    1056.0|       2.1782|           58400.0|\n",
            "|   -114.6|   34.83|              46.0|     1497.0|         309.0|     787.0|     271.0|       2.1908|           48100.0|\n",
            "|   -114.6|   33.62|              16.0|     3741.0|         801.0|    2434.0|     824.0|       2.6797|           86500.0|\n",
            "|   -114.6|    33.6|              21.0|     1988.0|         483.0|    1182.0|     437.0|        1.625|           62000.0|\n",
            "|  -114.61|   34.84|              48.0|     1291.0|         248.0|     580.0|     211.0|       2.1571|           48600.0|\n",
            "|  -114.61|   34.83|              31.0|     2478.0|         464.0|    1346.0|     479.0|        3.212|           70400.0|\n",
            "|  -114.63|   32.76|              15.0|     1448.0|         378.0|     949.0|     300.0|       0.8585|           45000.0|\n",
            "|  -114.65|   34.89|              17.0|     2556.0|         587.0|    1005.0|     401.0|       1.6991|           69100.0|\n",
            "|  -114.65|    33.6|              28.0|     1678.0|         322.0|     666.0|     256.0|       2.9653|           94900.0|\n",
            "|  -114.65|   32.79|              21.0|       44.0|          33.0|      64.0|      27.0|       0.8571|           25000.0|\n",
            "|  -114.66|   32.74|              17.0|     1388.0|         386.0|     775.0|     320.0|       1.2049|           44000.0|\n",
            "|  -114.67|   33.92|              17.0|       97.0|          24.0|      29.0|      15.0|       1.2656|           27500.0|\n",
            "+---------+--------+------------------+-----------+--------------+----------+----------+-------------+------------------+\n",
            "only showing top 20 rows\n",
            "\n"
          ]
        }
      ]
    },
    {
      "cell_type": "markdown",
      "metadata": {
        "id": "_sIAzayFkIyC"
      },
      "source": [
        "### Spark SQL to read data"
      ]
    },
    {
      "cell_type": "code",
      "metadata": {
        "id": "5hFs4j3mhOWI"
      },
      "source": [
        "output = spark.sql(\"select count(*) from test\")"
      ],
      "execution_count": null,
      "outputs": []
    },
    {
      "cell_type": "code",
      "metadata": {
        "id": "C7djiZlAqPvr",
        "colab": {
          "base_uri": "https://localhost:8080/"
        },
        "outputId": "471af639-9e8d-4dda-b472-9f771fa5adb5"
      },
      "source": [
        "output.show()"
      ],
      "execution_count": null,
      "outputs": [
        {
          "output_type": "stream",
          "name": "stdout",
          "text": [
            "+--------+\n",
            "|count(1)|\n",
            "+--------+\n",
            "|   17000|\n",
            "+--------+\n",
            "\n"
          ]
        }
      ]
    },
    {
      "cell_type": "code",
      "metadata": {
        "id": "ufb0wMkRGvVD"
      },
      "source": [
        "output = spark.sql(\"select housing_median_age, count(*) from test group by housing_median_age order by housing_median_age\")"
      ],
      "execution_count": null,
      "outputs": []
    },
    {
      "cell_type": "code",
      "metadata": {
        "id": "0GbHKFqvhWzi",
        "colab": {
          "base_uri": "https://localhost:8080/"
        },
        "outputId": "be690a04-ce94-45bd-8bfc-0a9f9e0edd2c"
      },
      "source": [
        "output.show()"
      ],
      "execution_count": null,
      "outputs": [
        {
          "output_type": "stream",
          "name": "stdout",
          "text": [
            "+------------------+--------+\n",
            "|housing_median_age|count(1)|\n",
            "+------------------+--------+\n",
            "|               1.0|       2|\n",
            "|               2.0|      49|\n",
            "|               3.0|      46|\n",
            "|               4.0|     161|\n",
            "|               5.0|     199|\n",
            "|               6.0|     129|\n",
            "|               7.0|     151|\n",
            "|               8.0|     178|\n",
            "|               9.0|     172|\n",
            "|              10.0|     226|\n",
            "|              11.0|     208|\n",
            "|              12.0|     192|\n",
            "|              13.0|     249|\n",
            "|              14.0|     347|\n",
            "|              15.0|     416|\n",
            "|              16.0|     635|\n",
            "|              17.0|     576|\n",
            "|              18.0|     478|\n",
            "|              19.0|     412|\n",
            "|              20.0|     383|\n",
            "+------------------+--------+\n",
            "only showing top 20 rows\n",
            "\n"
          ]
        }
      ]
    },
    {
      "cell_type": "code",
      "metadata": {
        "colab": {
          "base_uri": "https://localhost:8080/"
        },
        "id": "q84gnAffcPdR",
        "outputId": "5f9dcbc9-d8ad-4dc1-a6d1-45daa6059f27"
      },
      "source": [
        "!wget -O sf_crime.csv https://data.sfgov.org/api/views/tmnf-yvry/rows.csv?accessType=DOWNLOAD"
      ],
      "execution_count": null,
      "outputs": [
        {
          "output_type": "stream",
          "name": "stdout",
          "text": [
            "--2022-01-15 03:12:11--  https://data.sfgov.org/api/views/tmnf-yvry/rows.csv?accessType=DOWNLOAD\n",
            "Resolving data.sfgov.org (data.sfgov.org)... 52.206.68.26, 52.206.140.199, 52.206.140.205\n",
            "Connecting to data.sfgov.org (data.sfgov.org)|52.206.68.26|:443... connected.\n",
            "HTTP request sent, awaiting response... 200 OK\n",
            "Length: unspecified [text/csv]\n",
            "Saving to: ‘sf_crime.csv’\n",
            "\n",
            "sf_crime.csv            [        <=>         ] 525.42M  1.60MB/s    in 6m 54s  \n",
            "\n",
            "2022-01-15 03:19:06 (1.27 MB/s) - ‘sf_crime.csv’ saved [550945238]\n",
            "\n"
          ]
        }
      ]
    },
    {
      "cell_type": "code",
      "metadata": {
        "colab": {
          "base_uri": "https://localhost:8080/"
        },
        "id": "UmafqChRdJAt",
        "outputId": "1915865e-6d7d-40d7-bba4-f3fcc4911d59"
      },
      "source": [
        "!ls\n"
      ],
      "execution_count": null,
      "outputs": [
        {
          "output_type": "stream",
          "name": "stdout",
          "text": [
            "sample_data   spark-3.1.2-bin-hadoop3.2\n",
            "sf_crime.csv  spark-3.1.2-bin-hadoop3.2.tgz\n"
          ]
        }
      ]
    },
    {
      "cell_type": "code",
      "metadata": {
        "id": "m1cfPrLSdxz2"
      },
      "source": [
        "crims = spark.read.csv('./sf_crime.csv',inferSchema=True, header =True)"
      ],
      "execution_count": null,
      "outputs": []
    },
    {
      "cell_type": "code",
      "metadata": {
        "colab": {
          "base_uri": "https://localhost:8080/"
        },
        "id": "YgyB6yRUd_ue",
        "outputId": "31c0195e-7fc2-4130-851c-c555339ac3c1"
      },
      "source": [
        "crims.show()"
      ],
      "execution_count": null,
      "outputs": [
        {
          "output_type": "stream",
          "name": "stdout",
          "text": [
            "+--------------+----------+-------------+--------------+--------------------+---------+----------+-----+----------+--------------+--------------------+-------------------+------------------+--------------------+-------------------------+----------------------------+--------------------------------+--------------------------+--------------------------------------+-----------------------------+---------------------------------+----------------------+--------------------------+------------------------------+------------------------------------------------+----------------------------------+-----------------------+---------------------------------+------------------------------------------+--------------------------------+--------------------------------------+--------------------------------------------------------+-------------------------------+----------------------+---------------+\n",
            "|          PdId|IncidntNum|Incident Code|      Category|            Descript|DayOfWeek|      Date| Time|PdDistrict|    Resolution|             Address|                  X|                 Y|            location|SF Find Neighborhoods 2 2|Current Police Districts 2 2|Current Supervisor Districts 2 2|Analysis Neighborhoods 2 2|DELETE - Fire Prevention Districts 2 2|DELETE - Police Districts 2 2|DELETE - Supervisor Districts 2 2|DELETE - Zip Codes 2 2|DELETE - Neighborhoods 2 2|DELETE - 2017 Fix It Zones 2 2|Civic Center Harm Reduction Project Boundary 2 2|Fix It Zones as of 2017-11-06  2 2|DELETE - HSOC Zones 2 2|Fix It Zones as of 2018-02-07 2 2|CBD, BID and GBD Boundaries as of 2017 2 2|Areas of Vulnerability, 2016 2 2|Central Market/Tenderloin Boundary 2 2|Central Market/Tenderloin Boundary Polygon - Updated 2 2|HSOC Zones as of 2018-06-05 2 2|OWED Public Spaces 2 2|Neighborhoods 2|\n",
            "+--------------+----------+-------------+--------------+--------------------+---------+----------+-----+----------+--------------+--------------------+-------------------+------------------+--------------------+-------------------------+----------------------------+--------------------------------+--------------------------+--------------------------------------+-----------------------------+---------------------------------+----------------------+--------------------------+------------------------------+------------------------------------------------+----------------------------------+-----------------------+---------------------------------+------------------------------------------+--------------------------------+--------------------------------------+--------------------------------------------------------+-------------------------------+----------------------+---------------+\n",
            "| 3114751606302|  31147516|         6302| LARCENY/THEFT|PETTY THEFT FROM ...|   Sunday|09/28/2003|10:00|  SOUTHERN|          NONE| 1ST ST / BRANNAN ST|             -120.5|              90.0|POINT (-120.50000...|                     null|                        null|                            null|                      null|                                  null|                         null|                             null|                  null|                      null|                          null|                                            null|                              null|                   null|                             null|                                      null|                            null|                                  null|                                                    null|                           null|                  null|           null|\n",
            "| 5069701104134|  50697011|         4134|       ASSAULT|             BATTERY|Wednesday|06/22/2005|12:20|  NORTHERN|          NONE|1200 Block of EDD...|  -122.428223303176|  37.7818959488603|POINT (-122.42822...|                       97|                           4|                              11|                        39|                                     7|                            9|                               11|                 29490|                        41|                          null|                                            null|                              null|                   null|                             null|                                      null|                               2|                                  null|                                                    null|                           null|                  null|             97|\n",
            "| 6074729204104|  60747292|         4104|       ASSAULT|             ASSAULT| Saturday|07/15/2006|00:55|   CENTRAL|          NONE|1600 Block of POW...|  -122.410672425337|   37.799788690123|POINT (-122.41067...|                      106|                           6|                               3|                         6|                                     3|                            1|                               10|                   308|                         4|                          null|                                            null|                              null|                   null|                             null|                                      null|                               2|                                  null|                                                    null|                           null|                  null|            106|\n",
            "| 7103536315201|  71035363|        15201|       ASSAULT|            STALKING|  Tuesday|09/25/2007|00:01|   TARAVAL|          NONE|400 Block of ULLO...|  -122.458226300605|  37.7413616001449|POINT (-122.45822...|                       49|                          10|                               8|                        41|                                     1|                            8|                                4|                    59|                        40|                          null|                                            null|                              null|                   null|                             null|                                      null|                               1|                                  null|                                                    null|                           null|                  null|             49|\n",
            "|11082415274000| 110824152|        74000|MISSING PERSON|       MISSING ADULT| Saturday|09/24/2011|11:00|   TARAVAL|       LOCATED|3200 Block of SAN...|  -122.459172646607|  37.7082001648459|POINT (-122.45917...|                     null|                        null|                            null|                      null|                                  null|                         null|                             null|                 28588|                      null|                          null|                                            null|                              null|                   null|                             null|                                      null|                            null|                                  null|                                                    null|                           null|                  null|           null|\n",
            "| 4037801104134|  40378011|         4134|       ASSAULT|             BATTERY|   Friday|12/12/2003|12:00|  SOUTHERN|          NONE|   500 Block of I-80|  -122.386667033903|  37.7898821569191|POINT (-122.38666...|                     null|                        null|                            null|                      null|                                  null|                         null|                             null|                 28856|                      null|                          null|                                            null|                              null|                   null|                             null|                                      null|                            null|                                  null|                                                    null|                           null|                  null|           null|\n",
            "| 4147669007025|  41476690|         7025| VEHICLE THEFT|        STOLEN TRUCK| Thursday|12/30/2004|19:00|   BAYVIEW|          NONE|100 Block of KARE...|  -122.407531316146|   37.723291086507|POINT (-122.40753...|                       91|                           2|                               2|                        25|                                    10|                            3|                                7|                   309|                        28|                          null|                                            null|                              null|                   null|                             null|                                      null|                               1|                                  null|                                                    null|                           null|                  null|             91|\n",
            "|18030800164070| 180308001|        64070|SUSPICIOUS OCC|SUSPICIOUS OCCURR...|Wednesday|04/25/2018|05:00|   BAYVIEW|          NONE|1400 Block of THO...|-122.38854283127222| 37.72878928885484|POINT (-122.38854...|                       86|                           2|                               9|                         1|                                    10|                            3|                                8|                    58|                         1|                          null|                                            null|                              null|                   null|                             null|                                      null|                               2|                                  null|                                                    null|                           null|                  null|             86|\n",
            "|18023216504170| 180232165|         4170|       ASSAULT|  FALSE IMPRISONMENT| Saturday|03/24/2018|07:00|   MISSION|          NONE|MISSION ST / 20TH ST|-122.41905269434928| 37.75863240515618|POINT (-122.41905...|                       53|                           3|                               2|                        20|                                     2|                            4|                                7|                 28859|                        19|                            13|                                            null|                                15|                      3|                               15|                                      null|                               2|                                  null|                                                    null|                              3|                  null|             53|\n",
            "|16028516271000| 160285162|        71000|  NON-CRIMINAL|       LOST PROPERTY|  Tuesday|03/01/2016|00:01|   MISSION|          NONE|2200 Block of MAR...|-122.43195768519577| 37.76493571896795|POINT (-122.43195...|                       38|                           3|                               5|                         5|                                    15|                            4|                                5|                 28862|                         3|                          null|                                            null|                              null|                      5|                             null|                                         9|                               1|                                  null|                                                    null|                              5|                  null|             38|\n",
            "|17103493468020| 171034934|        68020|OTHER OFFENSES|MISCELLANEOUS INV...|   Friday|12/22/2017|23:30|  NORTHERN|          NONE|800 Block of FELL ST| -122.4318568343798| 37.77484995474678|POINT (-122.43185...|                       23|                           4|                              11|                         9|                                    15|                            9|                               11|                 29492|                        10|                          null|                                            null|                              null|                   null|                             null|                                      null|                               1|                                  null|                                                    null|                           null|                  null|             23|\n",
            "|17609651906372| 176096519|         6372| LARCENY/THEFT|PETTY THEFT OF PR...| Saturday|04/15/2017|00:45|  NORTHERN|          NONE|1900 Block of LOM...|-122.43362219642138|37.800270294430966|POINT (-122.43362...|                       17|                           4|                               6|                        13|                                    13|                            9|                                1|                    57|                        17|                            19|                                            null|                                21|                   null|                               21|                                      null|                               1|                                  null|                                                    null|                           null|                  null|             17|\n",
            "|17067335371000| 170673353|        71000|  NON-CRIMINAL|       LOST PROPERTY|Wednesday|07/19/2017|12:00|   MISSION|          NONE|MISSION ST / 16TH ST|-122.41967178029562| 37.76505012146682|POINT (-122.41967...|                       53|                           3|                               2|                        20|                                     8|                            4|                                7|                 28859|                        19|                            12|                                            null|                                14|                      3|                               14|                                      null|                               2|                                  null|                                                    null|                              3|                    50|             53|\n",
            "|17006059027170| 170060590|        27170|OTHER OFFENSES|    RESISTING ARREST|   Sunday|01/22/2017|17:57|  RICHMOND|ARREST, BOOKED|CLEMENT ST / 17TH AV|-122.47630696110282|37.782403326398246|POINT (-122.47630...|                        5|                           8|                               4|                        29|                                    11|                            6|                                2|                    54|                        26|                          null|                                            null|                              null|                   null|                             null|                                      null|                               1|                                  null|                                                    null|                           null|                  null|              5|\n",
            "|17083623864020| 170836238|        64020|  NON-CRIMINAL|AIDED CASE, MENTA...|   Friday|10/13/2017|06:45|TENDERLOIN|          NONE|600 Block of ELLI...|-122.41689371073893|37.784286048038915|POINT (-122.41689...|                       20|                           5|                              10|                        36|                                     7|                           10|                                9|                 28858|                        36|                            17|                                            null|                                18|                   null|                               18|                                         6|                               2|                                     1|                                                       1|                           null|                  null|             20|\n",
            "|18029886606243| 180298866|         6243| LARCENY/THEFT|PETTY THEFT FROM ...|   Sunday|04/22/2018|18:00|  NORTHERN|          NONE|600 Block of VANN...| -122.4206913866642|37.781483252353745|POINT (-122.42069...|                      100|                           4|                              11|                        39|                                     7|                            9|                               11|                 28852|                        41|                          null|                                               1|                              null|                      1|                             null|                                         8|                               2|                                  null|                                                    null|                              1|                  null|            100|\n",
            "|16619287606313| 166192876|         6313| LARCENY/THEFT| PETTY THEFT BICYCLE|  Tuesday|08/09/2016|19:00|  SOUTHERN|          NONE|  MARKET ST / 2ND ST|-122.40137806754392| 37.78926393104578|POINT (-122.40137...|                      108|                           6|                               3|                         8|                                     4|                            2|                               10|                 28855|                         6|                          null|                                            null|                              null|                   null|                             null|                                      null|                               2|                                  null|                                                    null|                           null|                    35|            108|\n",
            "|16624968706372| 166249687|         6372| LARCENY/THEFT|PETTY THEFT OF PR...|   Sunday|08/21/2016|10:00|  NORTHERN|          NONE|800 Block of LARK...|-122.41788544104195|37.785437847196754|POINT (-122.41788...|                       20|                           5|                              10|                        36|                                    13|                            9|                                9|                 28858|                        36|                          null|                                            null|                              null|                   null|                             null|                                      null|                               2|                                     1|                                                       1|                           null|                  null|             20|\n",
            "|18029937519057| 180299375|        19057|       ASSAULT|THREATS AGAINST LIFE|   Sunday|04/22/2018|22:25|  NORTHERN|ARREST, BOOKED|1300 Block of FIL...|-122.43235564136246| 37.78190654767414|POINT (-122.43235...|                       97|                           4|                              11|                        39|                                    15|                            9|                               11|                 29490|                        41|                          null|                                            null|                              null|                   null|                             null|                                      null|                               2|                                  null|                                                    null|                           null|                  null|             97|\n",
            "|18021658904134| 180216589|         4134|       ASSAULT|             BATTERY|   Friday|03/23/2018|00:55| INGLESIDE|ARREST, BOOKED|SAN JOSE AV / 29T...|-122.42267219236795| 37.74394327043075|POINT (-122.42267...|                       84|                           9|                               5|                        22|                                     2|                            7|                                5|                 28859|                        22|                          null|                                            null|                              null|                   null|                             null|                                      null|                               1|                                  null|                                                    null|                           null|                  null|             84|\n",
            "+--------------+----------+-------------+--------------+--------------------+---------+----------+-----+----------+--------------+--------------------+-------------------+------------------+--------------------+-------------------------+----------------------------+--------------------------------+--------------------------+--------------------------------------+-----------------------------+---------------------------------+----------------------+--------------------------+------------------------------+------------------------------------------------+----------------------------------+-----------------------+---------------------------------+------------------------------------------+--------------------------------+--------------------------------------+--------------------------------------------------------+-------------------------------+----------------------+---------------+\n",
            "only showing top 20 rows\n",
            "\n"
          ]
        }
      ]
    },
    {
      "cell_type": "code",
      "metadata": {
        "id": "e1yvkiAxeKCV"
      },
      "source": [
        "crims.registerTempTable(\"sf_crime\")"
      ],
      "execution_count": null,
      "outputs": []
    },
    {
      "cell_type": "code",
      "metadata": {
        "id": "2Ju3zgOHeUXN"
      },
      "source": [
        "result = spark.sql(\"SELECT  category, COUNT(*) AS Count FROM sf_crime GROUP BY category ORDER BY Count DESC\")"
      ],
      "execution_count": null,
      "outputs": []
    },
    {
      "cell_type": "code",
      "metadata": {
        "colab": {
          "base_uri": "https://localhost:8080/",
          "height": 34
        },
        "id": "ZYZ0XkCBejaL",
        "outputId": "521f2f02-ec8a-4cad-cd2b-454cc15a71ee"
      },
      "source": [
        "display(result)"
      ],
      "execution_count": null,
      "outputs": [
        {
          "output_type": "display_data",
          "data": {
            "text/plain": [
              "DataFrame[category: string, Count: bigint]"
            ]
          },
          "metadata": {}
        }
      ]
    },
    {
      "cell_type": "code",
      "metadata": {
        "colab": {
          "base_uri": "https://localhost:8080/"
        },
        "id": "aOYLwJldepFj",
        "outputId": "45d434d9-1c5e-489b-ab20-1ae3d0eac2d5"
      },
      "source": [
        "result.show()"
      ],
      "execution_count": null,
      "outputs": [
        {
          "output_type": "stream",
          "name": "stdout",
          "text": [
            "+--------------------+------+\n",
            "|            category| Count|\n",
            "+--------------------+------+\n",
            "|       LARCENY/THEFT|477975|\n",
            "|      OTHER OFFENSES|301874|\n",
            "|        NON-CRIMINAL|236928|\n",
            "|             ASSAULT|167042|\n",
            "|       VEHICLE THEFT|126228|\n",
            "|       DRUG/NARCOTIC|117821|\n",
            "|           VANDALISM|114718|\n",
            "|            WARRANTS| 99821|\n",
            "|            BURGLARY| 91067|\n",
            "|      SUSPICIOUS OCC| 79087|\n",
            "|             ROBBERY| 54467|\n",
            "|      MISSING PERSON| 44268|\n",
            "|               FRAUD| 41348|\n",
            "|FORGERY/COUNTERFE...| 22995|\n",
            "|     SECONDARY CODES| 22378|\n",
            "|         WEAPON LAWS| 21004|\n",
            "|            TRESPASS| 19194|\n",
            "|        PROSTITUTION| 16501|\n",
            "|     STOLEN PROPERTY| 11450|\n",
            "|  DISORDERLY CONDUCT|  9932|\n",
            "+--------------------+------+\n",
            "only showing top 20 rows\n",
            "\n"
          ]
        }
      ]
    },
    {
      "cell_type": "markdown",
      "metadata": {
        "id": "kVkUQDpUburF"
      },
      "source": [
        "# Spark HW2 for moivelense data analysis"
      ]
    },
    {
      "cell_type": "code",
      "metadata": {
        "id": "ZkdXQgCtmqqo",
        "colab": {
          "base_uri": "https://localhost:8080/"
        },
        "outputId": "7b85f775-38ee-45d0-ba9b-1bc2bfe7fc24"
      },
      "source": [
        "!wget http://files.grouplens.org/datasets/movielens/ml-latest-small.zip"
      ],
      "execution_count": null,
      "outputs": [
        {
          "output_type": "stream",
          "name": "stdout",
          "text": [
            "--2022-02-09 21:33:30--  http://files.grouplens.org/datasets/movielens/ml-latest-small.zip\n",
            "Resolving files.grouplens.org (files.grouplens.org)... 128.101.65.152\n",
            "Connecting to files.grouplens.org (files.grouplens.org)|128.101.65.152|:80... connected.\n",
            "HTTP request sent, awaiting response... 200 OK\n",
            "Length: 978202 (955K) [application/zip]\n",
            "Saving to: ‘ml-latest-small.zip’\n",
            "\n",
            "ml-latest-small.zip 100%[===================>] 955.28K  4.67MB/s    in 0.2s    \n",
            "\n",
            "2022-02-09 21:33:30 (4.67 MB/s) - ‘ml-latest-small.zip’ saved [978202/978202]\n",
            "\n"
          ]
        }
      ]
    },
    {
      "cell_type": "code",
      "metadata": {
        "id": "DPBImzfVm2yc",
        "colab": {
          "base_uri": "https://localhost:8080/"
        },
        "outputId": "16682fdd-c06f-482e-a505-98232b40fccf"
      },
      "source": [
        "!ls"
      ],
      "execution_count": null,
      "outputs": [
        {
          "output_type": "stream",
          "name": "stdout",
          "text": [
            "ml-latest\t     ml-latest.zip  spark-3.1.2-bin-hadoop3.2\n",
            "ml-latest-small.zip  sample_data    spark-3.1.2-bin-hadoop3.2.tgz\n"
          ]
        }
      ]
    },
    {
      "cell_type": "code",
      "metadata": {
        "id": "ogK5wu9im77Z",
        "colab": {
          "base_uri": "https://localhost:8080/"
        },
        "outputId": "e2abc1fc-2277-4750-82dd-cd20fdf969dd"
      },
      "source": [
        "!unzip ml-latest-small.zip"
      ],
      "execution_count": null,
      "outputs": [
        {
          "output_type": "stream",
          "name": "stdout",
          "text": [
            "Archive:  ml-latest-small.zip\n",
            "   creating: ml-latest-small/\n",
            "  inflating: ml-latest-small/links.csv  \n",
            "  inflating: ml-latest-small/tags.csv  \n",
            "  inflating: ml-latest-small/ratings.csv  \n",
            "  inflating: ml-latest-small/README.txt  \n",
            "  inflating: ml-latest-small/movies.csv  \n"
          ]
        }
      ]
    },
    {
      "cell_type": "code",
      "metadata": {
        "id": "QyydjLqDnDT5",
        "colab": {
          "base_uri": "https://localhost:8080/"
        },
        "outputId": "b34df67b-4f0e-4a24-b40f-6bc8c5426aa9"
      },
      "source": [
        "!ls ml-latest-small/"
      ],
      "execution_count": null,
      "outputs": [
        {
          "output_type": "stream",
          "name": "stdout",
          "text": [
            "links.csv  movies.csv  ratings.csv  README.txt\ttags.csv\n"
          ]
        }
      ]
    },
    {
      "cell_type": "code",
      "metadata": {
        "id": "MbSaplthnUAQ"
      },
      "source": [
        "ratings = spark.read.csv('./ml-latest-small/ratings.csv',inferSchema=True, header =True)\n",
        "movies= spark.read.load(\"./ml-latest-small/movies.csv\", format='csv', header = True)\n",
        "links= spark.read.load(\"./ml-latest-small/links.csv\", format='csv', header = True)\n",
        "tags= spark.read.load(\"./ml-latest-small/tags.csv\", format='csv', header = True)"
      ],
      "execution_count": null,
      "outputs": []
    },
    {
      "cell_type": "code",
      "metadata": {
        "id": "evh69e43n5nJ",
        "colab": {
          "base_uri": "https://localhost:8080/"
        },
        "outputId": "87e6f8d9-21ac-4cea-e9e7-eff0fcf0cef1"
      },
      "source": [
        "ratings.show(5)"
      ],
      "execution_count": null,
      "outputs": [
        {
          "output_type": "stream",
          "name": "stdout",
          "text": [
            "+------+-------+------+---------+\n",
            "|userId|movieId|rating|timestamp|\n",
            "+------+-------+------+---------+\n",
            "|     1|      1|   4.0|964982703|\n",
            "|     1|      3|   4.0|964981247|\n",
            "|     1|      6|   4.0|964982224|\n",
            "|     1|     47|   5.0|964983815|\n",
            "|     1|     50|   5.0|964982931|\n",
            "+------+-------+------+---------+\n",
            "only showing top 5 rows\n",
            "\n"
          ]
        }
      ]
    },
    {
      "cell_type": "code",
      "source": [
        "movies.show(5)"
      ],
      "metadata": {
        "colab": {
          "base_uri": "https://localhost:8080/"
        },
        "id": "4TT0QDMVSDti",
        "outputId": "97fd54f5-bc28-4e4a-8a6f-570248bd71ed"
      },
      "execution_count": null,
      "outputs": [
        {
          "output_type": "stream",
          "name": "stdout",
          "text": [
            "+-------+--------------------+--------------------+\n",
            "|movieId|               title|              genres|\n",
            "+-------+--------------------+--------------------+\n",
            "|      1|    Toy Story (1995)|Adventure|Animati...|\n",
            "|      2|      Jumanji (1995)|Adventure|Childre...|\n",
            "|      3|Grumpier Old Men ...|      Comedy|Romance|\n",
            "|      4|Waiting to Exhale...|Comedy|Drama|Romance|\n",
            "|      5|Father of the Bri...|              Comedy|\n",
            "+-------+--------------------+--------------------+\n",
            "only showing top 5 rows\n",
            "\n"
          ]
        }
      ]
    },
    {
      "cell_type": "code",
      "source": [
        "links.show(5)"
      ],
      "metadata": {
        "colab": {
          "base_uri": "https://localhost:8080/"
        },
        "id": "nJoU8MA-SGuu",
        "outputId": "1b0f9d00-1dd5-4cf0-b5b0-27db47179d76"
      },
      "execution_count": null,
      "outputs": [
        {
          "output_type": "stream",
          "name": "stdout",
          "text": [
            "+-------+-------+------+\n",
            "|movieId| imdbId|tmdbId|\n",
            "+-------+-------+------+\n",
            "|      1|0114709|   862|\n",
            "|      2|0113497|  8844|\n",
            "|      3|0113228| 15602|\n",
            "|      4|0114885| 31357|\n",
            "|      5|0113041| 11862|\n",
            "+-------+-------+------+\n",
            "only showing top 5 rows\n",
            "\n"
          ]
        }
      ]
    },
    {
      "cell_type": "code",
      "source": [
        "tags.show(5)"
      ],
      "metadata": {
        "colab": {
          "base_uri": "https://localhost:8080/"
        },
        "id": "So0-vt4KSJGk",
        "outputId": "3468dcfd-e5c7-43bd-d027-3a1e1499f66b"
      },
      "execution_count": null,
      "outputs": [
        {
          "output_type": "stream",
          "name": "stdout",
          "text": [
            "+------+-------+---------------+----------+\n",
            "|userId|movieId|            tag| timestamp|\n",
            "+------+-------+---------------+----------+\n",
            "|     2|  60756|          funny|1445714994|\n",
            "|     2|  60756|Highly quotable|1445714996|\n",
            "|     2|  60756|   will ferrell|1445714992|\n",
            "|     2|  89774|   Boxing story|1445715207|\n",
            "|     2|  89774|            MMA|1445715200|\n",
            "+------+-------+---------------+----------+\n",
            "only showing top 5 rows\n",
            "\n"
          ]
        }
      ]
    },
    {
      "cell_type": "code",
      "metadata": {
        "id": "5tEtJbBxWi8o",
        "colab": {
          "base_uri": "https://localhost:8080/"
        },
        "outputId": "afeae662-cbfb-4e09-bcfb-0a34bc30e06b"
      },
      "source": [
        "ratings.count()"
      ],
      "execution_count": null,
      "outputs": [
        {
          "output_type": "execute_result",
          "data": {
            "text/plain": [
              "100836"
            ]
          },
          "metadata": {},
          "execution_count": 51
        }
      ]
    },
    {
      "cell_type": "code",
      "metadata": {
        "id": "09h8NQDsF9SO"
      },
      "source": [
        "count = spark.sql(\"select count(*) from ratings\")"
      ],
      "execution_count": null,
      "outputs": []
    },
    {
      "cell_type": "code",
      "metadata": {
        "colab": {
          "base_uri": "https://localhost:8080/"
        },
        "id": "vQjonvxCFz7G",
        "outputId": "af5f4348-755a-44a0-996f-d6a52cf41998"
      },
      "source": [
        "count.show()"
      ],
      "execution_count": null,
      "outputs": [
        {
          "output_type": "stream",
          "name": "stdout",
          "text": [
            "+--------+\n",
            "|count(1)|\n",
            "+--------+\n",
            "|27753444|\n",
            "+--------+\n",
            "\n"
          ]
        }
      ]
    },
    {
      "cell_type": "code",
      "source": [
        "tmp1 = ratings.groupBy(\"userID\").count().toPandas()['count'].min()\n",
        "tmp2 = ratings.groupBy(\"movieId\").count().toPandas()['count'].min()\n",
        "print('For the users that rated movies and the movies that were rated:')\n",
        "print('Minimum number of ratings per user is {}'.format(tmp1))\n",
        "print('Minimum number of ratings per movie is {}'.format(tmp2))"
      ],
      "metadata": {
        "colab": {
          "base_uri": "https://localhost:8080/"
        },
        "id": "1By9HYQARPU2",
        "outputId": "f4765cf3-1573-444d-ce8d-3f624c1bd8aa"
      },
      "execution_count": null,
      "outputs": [
        {
          "output_type": "stream",
          "name": "stdout",
          "text": [
            "For the users that rated movies and the movies that were rated:\n",
            "Minimum number of ratings per user is 20\n",
            "Minimum number of ratings per movie is 1\n"
          ]
        }
      ]
    },
    {
      "cell_type": "markdown",
      "source": [
        "\n",
        "## Part 1: Spark SQL and OLAP "
      ],
      "metadata": {
        "id": "wYbvSLSwUlA7"
      }
    },
    {
      "cell_type": "code",
      "metadata": {
        "id": "k400cBY8FTWx"
      },
      "source": [
        "# register this rating into a table in Spark SQL, and execute a Spark SQL like group by etc \n",
        "ratings.registerTempTable(\"ratings\")\n",
        "movies.registerTempTable(\"movies\")\n",
        "links.registerTempTable(\"links\")\n",
        "tags.registerTempTable(\"tags\")"
      ],
      "execution_count": null,
      "outputs": []
    },
    {
      "cell_type": "markdown",
      "source": [
        "### Q1: The number of Users"
      ],
      "metadata": {
        "id": "OkL7_ZeNUwGy"
      }
    },
    {
      "cell_type": "code",
      "source": [
        "q1=spark.sql(\"SELECT COUNT(DISTINCT userID) AS The_Number_Of_Users FROM ratings\")\n",
        "q1.show()"
      ],
      "metadata": {
        "colab": {
          "base_uri": "https://localhost:8080/"
        },
        "id": "h3zVTFrhUnEC",
        "outputId": "d1c8c075-7d06-4fe1-d0b9-5571ef3c5bff"
      },
      "execution_count": null,
      "outputs": [
        {
          "output_type": "stream",
          "name": "stdout",
          "text": [
            "+-------------------+\n",
            "|The_Number_Of_Users|\n",
            "+-------------------+\n",
            "|                610|\n",
            "+-------------------+\n",
            "\n"
          ]
        }
      ]
    },
    {
      "cell_type": "markdown",
      "source": [
        "### Q2: The number of Movies"
      ],
      "metadata": {
        "id": "U6iLuzrkViuA"
      }
    },
    {
      "cell_type": "code",
      "source": [
        "q2=spark.sql(\"SELECT COUNT(DISTINCT movieID) Total_Movie_Number FROM movies\")\n",
        "q2.show()"
      ],
      "metadata": {
        "colab": {
          "base_uri": "https://localhost:8080/"
        },
        "id": "xmpT-XGrVmXO",
        "outputId": "7c2fe76b-cc95-45f0-bbc0-eba85611fc97"
      },
      "execution_count": null,
      "outputs": [
        {
          "output_type": "stream",
          "name": "stdout",
          "text": [
            "+------------------+\n",
            "|Total_Movie_Number|\n",
            "+------------------+\n",
            "|              9742|\n",
            "+------------------+\n",
            "\n"
          ]
        }
      ]
    },
    {
      "cell_type": "markdown",
      "source": [
        "### Q3:  How many movies are rated by users? List movies not rated before"
      ],
      "metadata": {
        "id": "tGS9KtadV7Ro"
      }
    },
    {
      "cell_type": "code",
      "source": [
        "q3=spark.sql(\"SELECT COUNT(DISTINCT movieID) FROM ratings\")\n",
        "q3.show(5)"
      ],
      "metadata": {
        "colab": {
          "base_uri": "https://localhost:8080/"
        },
        "id": "UrTRnDpXV4nQ",
        "outputId": "9b285342-e7a5-4332-b4c3-1247c1e040ef"
      },
      "execution_count": null,
      "outputs": [
        {
          "output_type": "stream",
          "name": "stdout",
          "text": [
            "+-----------------------+\n",
            "|count(DISTINCT movieID)|\n",
            "+-----------------------+\n",
            "|                   9724|\n",
            "+-----------------------+\n",
            "\n"
          ]
        }
      ]
    },
    {
      "cell_type": "markdown",
      "source": [
        "There are 9724 movies rated by users."
      ],
      "metadata": {
        "id": "B7FDMmCoZDfO"
      }
    },
    {
      "cell_type": "code",
      "source": [
        "notrated=spark.sql(\"SELECT * FROM movies WHERE movieID NOT IN (SELECT movieID FROM ratings)\")\n",
        "notrated.show(5)\n",
        "#notrated stores the movies not rated before"
      ],
      "metadata": {
        "colab": {
          "base_uri": "https://localhost:8080/"
        },
        "id": "2OjwO03UamwS",
        "outputId": "793258aa-74ad-48b1-d430-cab8d18a2ed1"
      },
      "execution_count": null,
      "outputs": [
        {
          "output_type": "stream",
          "name": "stdout",
          "text": [
            "+-------+--------------------+--------------------+\n",
            "|movieId|               title|              genres|\n",
            "+-------+--------------------+--------------------+\n",
            "|   1076|Innocents, The (1...|Drama|Horror|Thri...|\n",
            "|   2939|      Niagara (1953)|      Drama|Thriller|\n",
            "|   3338|For All Mankind (...|         Documentary|\n",
            "|   3456|Color of Paradise...|               Drama|\n",
            "|   4194|I Know Where I'm ...|   Drama|Romance|War|\n",
            "+-------+--------------------+--------------------+\n",
            "only showing top 5 rows\n",
            "\n"
          ]
        }
      ]
    },
    {
      "cell_type": "markdown",
      "source": [
        "### Q4: List Movie Genres"
      ],
      "metadata": {
        "id": "LbctDH-vc_gy"
      }
    },
    {
      "cell_type": "code",
      "source": [
        "#\n",
        "q4=spark.sql(\"SELECT DISTINCT explode(split(genres,'[|]')) AS genres, title FROM movies\")\n",
        "q4.show()"
      ],
      "metadata": {
        "colab": {
          "base_uri": "https://localhost:8080/"
        },
        "id": "ic1c2ElIdST3",
        "outputId": "efb6f0f0-7a06-43d1-a53a-ee4dcb19413d"
      },
      "execution_count": null,
      "outputs": [
        {
          "output_type": "stream",
          "name": "stdout",
          "text": [
            "+---------+--------------------+\n",
            "|   genres|               title|\n",
            "+---------+--------------------+\n",
            "|    Drama|  Money Train (1995)|\n",
            "| Thriller|Usual Suspects, T...|\n",
            "|Animation|Snow White and th...|\n",
            "|   Comedy| Pretty Woman (1990)|\n",
            "|Adventure|Bedknobs and Broo...|\n",
            "| Thriller|Touch of Evil (1958)|\n",
            "|   Horror|   Body Parts (1991)|\n",
            "|   Comedy|     In & Out (1997)|\n",
            "|    Crime|King of New York ...|\n",
            "|    Drama|Dream for an Inso...|\n",
            "| Children|Apple Dumpling Ga...|\n",
            "|    Drama|Love Is the Devil...|\n",
            "|    Drama|American History ...|\n",
            "|   Comedy|Hard Core Logo (1...|\n",
            "|   Action| Superman III (1983)|\n",
            "|   Horror|    Tarantula (1955)|\n",
            "|  Mystery|Red Violin, The (...|\n",
            "| Thriller|Tequila Sunrise (...|\n",
            "|    Drama|    Hairspray (1988)|\n",
            "|   Sci-Fi| Galaxy Quest (1999)|\n",
            "+---------+--------------------+\n",
            "only showing top 20 rows\n",
            "\n"
          ]
        }
      ]
    },
    {
      "cell_type": "markdown",
      "source": [
        "### Q5: Movie for Each Category"
      ],
      "metadata": {
        "id": "xDuHqYqLgGtX"
      }
    },
    {
      "cell_type": "code",
      "source": [
        "q5=spark.sql(\"SELECT genres, concat_ws('/',collect_set(title)) as list_of_movies \"+\\\n",
        "             \"FROM(Select explode(split(genres,'[|]')) AS genres, title From movies)\"+\\\n",
        "             \"Group By genres\")\n",
        "q5.show()"
      ],
      "metadata": {
        "colab": {
          "base_uri": "https://localhost:8080/"
        },
        "id": "F17JyO-VgHRt",
        "outputId": "0b117296-edfb-4575-f3a6-cbb0a3198297"
      },
      "execution_count": null,
      "outputs": [
        {
          "output_type": "stream",
          "name": "stdout",
          "text": [
            "+------------------+--------------------+\n",
            "|            genres|      list_of_movies|\n",
            "+------------------+--------------------+\n",
            "|             Crime|Stealing Rembrand...|\n",
            "|           Romance|Vampire in Brookl...|\n",
            "|          Thriller|Element of Crime,...|\n",
            "|         Adventure|Ice Age: Collisio...|\n",
            "|             Drama|Airport '77 (1977...|\n",
            "|               War|General, The (192...|\n",
            "|       Documentary|The Barkley Marat...|\n",
            "|           Fantasy|Masters of the Un...|\n",
            "|           Mystery|Before and After ...|\n",
            "|           Musical|U2: Rattle and Hu...|\n",
            "|         Animation|Ice Age: Collisio...|\n",
            "|         Film-Noir|Rififi (Du rififi...|\n",
            "|(no genres listed)|T2 3-D: Battle Ac...|\n",
            "|              IMAX|Harry Potter and ...|\n",
            "|            Horror|Underworld: Rise ...|\n",
            "|           Western|Man Who Shot Libe...|\n",
            "|            Comedy|Hysteria (2011)/H...|\n",
            "|          Children|Ice Age: Collisio...|\n",
            "|            Action|Stealing Rembrand...|\n",
            "|            Sci-Fi|Push (2009)/SORI:...|\n",
            "+------------------+--------------------+\n",
            "\n"
          ]
        }
      ]
    },
    {
      "cell_type": "markdown",
      "source": [
        "# Part2: Spark ALS based approach for training model\n",
        "We will use an Spark ML to predict the ratings, so let's reload \"ratings.csv\" using ``sc.textFile`` and then convert it to the form of (user, item, rating) tuples."
      ],
      "metadata": {
        "id": "ZK_5Y5Twmi7i"
      }
    },
    {
      "cell_type": "code",
      "source": [
        "ratings.show(5)\n",
        "movie_ratings=ratings.drop('timestamp')\n",
        "movie_ratings.show(5)"
      ],
      "metadata": {
        "colab": {
          "base_uri": "https://localhost:8080/"
        },
        "id": "PN2oxvxcmo7C",
        "outputId": "1ac0ebab-a867-4e64-8ada-ba99017a13ad"
      },
      "execution_count": null,
      "outputs": [
        {
          "output_type": "stream",
          "name": "stdout",
          "text": [
            "+------+-------+------+---------+\n",
            "|userId|movieId|rating|timestamp|\n",
            "+------+-------+------+---------+\n",
            "|     1|      1|   4.0|964982703|\n",
            "|     1|      3|   4.0|964981247|\n",
            "|     1|      6|   4.0|964982224|\n",
            "|     1|     47|   5.0|964983815|\n",
            "|     1|     50|   5.0|964982931|\n",
            "+------+-------+------+---------+\n",
            "only showing top 5 rows\n",
            "\n",
            "+------+-------+------+\n",
            "|userId|movieId|rating|\n",
            "+------+-------+------+\n",
            "|     1|      1|   4.0|\n",
            "|     1|      3|   4.0|\n",
            "|     1|      6|   4.0|\n",
            "|     1|     47|   5.0|\n",
            "|     1|     50|   5.0|\n",
            "+------+-------+------+\n",
            "only showing top 5 rows\n",
            "\n"
          ]
        }
      ]
    },
    {
      "cell_type": "code",
      "source": [
        "# Data type convert\n",
        "from pyspark.sql.types import IntegerType, FloatType\n",
        "movie_ratings = movie_ratings.withColumn(\"userId\", movie_ratings[\"userId\"].cast(IntegerType()))\n",
        "movie_ratings = movie_ratings.withColumn(\"movieId\", movie_ratings[\"movieId\"].cast(IntegerType()))\n",
        "movie_ratings = movie_ratings.withColumn(\"rating\", movie_ratings[\"rating\"].cast(FloatType()))\n"
      ],
      "metadata": {
        "id": "NGc4tEzWm45C"
      },
      "execution_count": null,
      "outputs": []
    },
    {
      "cell_type": "code",
      "source": [
        "movie_ratings.show(5)"
      ],
      "metadata": {
        "colab": {
          "base_uri": "https://localhost:8080/"
        },
        "id": "ZbjiB5FqnCl3",
        "outputId": "0d9c2b0f-8bdc-4627-d69e-8c5f429d9173"
      },
      "execution_count": null,
      "outputs": [
        {
          "output_type": "stream",
          "name": "stdout",
          "text": [
            "+------+-------+------+\n",
            "|userId|movieId|rating|\n",
            "+------+-------+------+\n",
            "|     1|      1|   4.0|\n",
            "|     1|      3|   4.0|\n",
            "|     1|      6|   4.0|\n",
            "|     1|     47|   5.0|\n",
            "|     1|     50|   5.0|\n",
            "+------+-------+------+\n",
            "only showing top 5 rows\n",
            "\n"
          ]
        }
      ]
    },
    {
      "cell_type": "markdown",
      "source": [
        "### ALS Model Selection and Evaluation\n",
        "\n",
        "With the ALS model, we can use a grid search to find the optimal hyperparameters."
      ],
      "metadata": {
        "id": "phQPe43YnH3w"
      }
    },
    {
      "cell_type": "code",
      "source": [
        "# import package\n",
        "from pyspark.ml.evaluation import RegressionEvaluator\n",
        "from pyspark.ml.recommendation import ALS\n",
        "from pyspark.ml.tuning import CrossValidator,ParamGridBuilder"
      ],
      "metadata": {
        "id": "bi9OhJv9nIT_"
      },
      "execution_count": null,
      "outputs": []
    },
    {
      "cell_type": "code",
      "source": [
        "#Create test and train set\n",
        "(training,test)=movie_ratings.randomSplit([0.8,0.2])"
      ],
      "metadata": {
        "id": "LD8HTQAhnNJy"
      },
      "execution_count": null,
      "outputs": []
    },
    {
      "cell_type": "markdown",
      "source": [
        "##### Create ALS model\n"
      ],
      "metadata": {
        "id": "u5-ragRhnUS0"
      }
    },
    {
      "cell_type": "code",
      "source": [
        "als = ALS(maxIter=5,rank=10, regParam=0.01, userCol=\"userId\", itemCol=\"movieId\", ratingCol=\"rating\",\n",
        "          coldStartStrategy=\"drop\")\n",
        "# https://spark.apache.org/docs/latest/ml-collaborative-filtering.html\n"
      ],
      "metadata": {
        "id": "Vl-AnsZlnSd8"
      },
      "execution_count": null,
      "outputs": []
    },
    {
      "cell_type": "markdown",
      "source": [
        "##### Tune model using ParamGridBuilder"
      ],
      "metadata": {
        "id": "24RUUKy7odwm"
      }
    },
    {
      "cell_type": "code",
      "source": [
        "paramGrid = (ParamGridBuilder()\n",
        "             .addGrid(als.regParam, [0.05, 0.1, 0.3, 0.5])\n",
        "             .addGrid(als.rank, [5, 10, 15])\n",
        "             .addGrid(als.maxIter, [1, 5, 10])\n",
        "             .build())"
      ],
      "metadata": {
        "id": "WLdvl1-noQGN"
      },
      "execution_count": null,
      "outputs": []
    },
    {
      "cell_type": "markdown",
      "source": [
        "##### Define evaluator as RMSE"
      ],
      "metadata": {
        "id": "JlMYrm4Cohjh"
      }
    },
    {
      "cell_type": "code",
      "source": [
        "# Define evaluator as RMSE\n",
        "evaluator = RegressionEvaluator(metricName=\"rmse\", labelCol=\"rating\", predictionCol=\"prediction\")"
      ],
      "metadata": {
        "id": "9eM7fqofoZOF"
      },
      "execution_count": null,
      "outputs": []
    },
    {
      "cell_type": "markdown",
      "source": [
        "##### Build Cross validation "
      ],
      "metadata": {
        "id": "F5Cr6keOolEq"
      }
    },
    {
      "cell_type": "code",
      "source": [
        "# Build Cross validation \n",
        "cv= CrossValidator(estimator=als, estimatorParamMaps=paramGrid, evaluator=evaluator, numFolds=5)"
      ],
      "metadata": {
        "id": "oiFXAES-obNO"
      },
      "execution_count": null,
      "outputs": []
    },
    {
      "cell_type": "markdown",
      "source": [
        "##### Fit ALS model to training data"
      ],
      "metadata": {
        "id": "YWppDdyoqifS"
      }
    },
    {
      "cell_type": "code",
      "source": [
        "cvmodel=cv.fit(training)"
      ],
      "metadata": {
        "id": "ZphObZJXql_q"
      },
      "execution_count": null,
      "outputs": []
    },
    {
      "cell_type": "markdown",
      "source": [
        "##### Extract best model from the tuning exercise using ParamGridBuilder"
      ],
      "metadata": {
        "id": "UErULzOOsKgc"
      }
    },
    {
      "cell_type": "code",
      "source": [
        "best_model=cvmodel.bestModel"
      ],
      "metadata": {
        "id": "fO4lefizsNyg"
      },
      "execution_count": null,
      "outputs": []
    },
    {
      "cell_type": "markdown",
      "source": [
        ""
      ],
      "metadata": {
        "id": "msJfivZiuFou"
      }
    },
    {
      "cell_type": "markdown",
      "source": [
        "### Model testing\n",
        "And finally, make a prediction and check the testing error."
      ],
      "metadata": {
        "id": "4Pt1ZcOkscqM"
      }
    },
    {
      "cell_type": "code",
      "source": [
        "#Generate predictions and evaluate using RMSE\n",
        "predictions=best_model.transform(test)\n",
        "rmse = evaluator.evaluate(predictions)"
      ],
      "metadata": {
        "id": "8GYVWZ35sfa7"
      },
      "execution_count": null,
      "outputs": []
    },
    {
      "cell_type": "markdown",
      "source": [
        "##### Print evaluation metrics and model parameters"
      ],
      "metadata": {
        "id": "vJ-nn0u3sfm_"
      }
    },
    {
      "cell_type": "code",
      "source": [
        "print (\"RMSE = \"+str(rmse))\n",
        "print (\"**Best Model**\")\n",
        "print (\" Rank: \", str(best_model._java_obj.parent().getRank())),\n",
        "print (\" MaxIter: \", str(best_model._java_obj.parent().getMaxIter())), \n",
        "print (\" RegParam: \", str(best_model._java_obj.parent().getRegParam()))"
      ],
      "metadata": {
        "colab": {
          "base_uri": "https://localhost:8080/"
        },
        "id": "c6ugtjTGsmVw",
        "outputId": "ac05eafe-33f0-4d40-b55b-ee162be1fe74"
      },
      "execution_count": null,
      "outputs": [
        {
          "output_type": "stream",
          "name": "stdout",
          "text": [
            "RMSE = 0.8806319282714045\n",
            "**Best Model**\n",
            " Rank:  5\n",
            " MaxIter:  10\n",
            " RegParam:  0.1\n"
          ]
        }
      ]
    },
    {
      "cell_type": "code",
      "source": [
        "predictions.show()"
      ],
      "metadata": {
        "colab": {
          "base_uri": "https://localhost:8080/"
        },
        "id": "AF2hye4_soJH",
        "outputId": "8caf9773-9387-4afc-f103-d1b9cb351a1c"
      },
      "execution_count": null,
      "outputs": [
        {
          "output_type": "stream",
          "name": "stdout",
          "text": [
            "+------+-------+------+----------+\n",
            "|userId|movieId|rating|prediction|\n",
            "+------+-------+------+----------+\n",
            "|   372|    471|   3.0| 2.9775312|\n",
            "|   603|    471|   4.0| 3.2607427|\n",
            "|   500|    471|   1.0| 2.9381146|\n",
            "|    57|    471|   3.0| 3.5664742|\n",
            "|   387|    471|   3.0|  3.165833|\n",
            "|   610|    471|   4.0| 3.4954052|\n",
            "|   136|    471|   4.0|  4.198786|\n",
            "|   287|    471|   4.5| 2.3970962|\n",
            "|   608|    471|   1.5| 2.8866148|\n",
            "|   373|    471|   5.0| 3.7511425|\n",
            "|    44|    833|   2.0| 1.8488071|\n",
            "|   609|    833|   3.0| 1.4354801|\n",
            "|   599|   1088|   2.5|  2.544386|\n",
            "|   111|   1088|   3.0| 3.0597968|\n",
            "|    47|   1088|   4.0| 2.9640028|\n",
            "|   307|   1088|   3.0| 2.4758844|\n",
            "|   509|   1088|   3.0| 3.1722302|\n",
            "|   226|   1088|   1.0| 3.3051124|\n",
            "|   188|   1088|   4.0|  3.931591|\n",
            "|   116|   1088|   4.5| 3.5074172|\n",
            "+------+-------+------+----------+\n",
            "only showing top 20 rows\n",
            "\n"
          ]
        }
      ]
    },
    {
      "cell_type": "markdown",
      "source": [
        "### Model apply and see the performance"
      ],
      "metadata": {
        "id": "KQmQeLjqsqQD"
      }
    },
    {
      "cell_type": "code",
      "source": [
        "alldata=best_model.transform(movie_ratings)\n",
        "rmse = evaluator.evaluate(alldata)\n",
        "print (\"RMSE = \"+str(rmse))"
      ],
      "metadata": {
        "colab": {
          "base_uri": "https://localhost:8080/"
        },
        "id": "Nl4taIE3ssOg",
        "outputId": "5ec0d6d2-cae5-41ef-bcd8-1eb28eb0b501"
      },
      "execution_count": null,
      "outputs": [
        {
          "output_type": "stream",
          "name": "stdout",
          "text": [
            "RMSE = 0.6917489487318035\n"
          ]
        }
      ]
    },
    {
      "cell_type": "code",
      "source": [
        "alldata.registerTempTable(\"alldata\")"
      ],
      "metadata": {
        "id": "5kc_4AVNstlB"
      },
      "execution_count": null,
      "outputs": []
    },
    {
      "cell_type": "code",
      "source": [
        "spark.sql(\"select * from alldata\").show(10)"
      ],
      "metadata": {
        "colab": {
          "base_uri": "https://localhost:8080/"
        },
        "id": "x-vshV79syXA",
        "outputId": "180f49f5-edf0-4101-e05d-00843e8f337e"
      },
      "execution_count": null,
      "outputs": [
        {
          "output_type": "stream",
          "name": "stdout",
          "text": [
            "+------+-------+------+----------+\n",
            "|userId|movieId|rating|prediction|\n",
            "+------+-------+------+----------+\n",
            "|   191|    148|   5.0| 4.9492073|\n",
            "|   133|    471|   4.0| 3.2416303|\n",
            "|   597|    471|   2.0|  3.778933|\n",
            "|   385|    471|   4.0| 3.1743922|\n",
            "|   436|    471|   3.0|   3.27417|\n",
            "|   602|    471|   4.0| 3.6692405|\n",
            "|    91|    471|   1.0| 2.5921195|\n",
            "|   409|    471|   3.0| 3.4604487|\n",
            "|   372|    471|   3.0| 2.9775312|\n",
            "|   599|    471|   2.5|  2.684288|\n",
            "+------+-------+------+----------+\n",
            "only showing top 10 rows\n",
            "\n"
          ]
        }
      ]
    },
    {
      "cell_type": "code",
      "source": [
        "spark.sql(\"select * from movies join alldata on movies.movieId=alldata.movieId\").show(10)"
      ],
      "metadata": {
        "colab": {
          "base_uri": "https://localhost:8080/"
        },
        "id": "-x0ouV00s39p",
        "outputId": "1378402e-9612-46a3-deb7-d5f4d4857ab9"
      },
      "execution_count": null,
      "outputs": [
        {
          "output_type": "stream",
          "name": "stdout",
          "text": [
            "+-------+--------------------+------+------+-------+------+----------+\n",
            "|movieId|               title|genres|userId|movieId|rating|prediction|\n",
            "+-------+--------------------+------+------+-------+------+----------+\n",
            "|    148|Awfully Big Adven...| Drama|   191|    148|   5.0| 4.9492073|\n",
            "|    471|Hudsucker Proxy, ...|Comedy|   133|    471|   4.0| 3.2416303|\n",
            "|    471|Hudsucker Proxy, ...|Comedy|   597|    471|   2.0|  3.778933|\n",
            "|    471|Hudsucker Proxy, ...|Comedy|   385|    471|   4.0| 3.1743922|\n",
            "|    471|Hudsucker Proxy, ...|Comedy|   436|    471|   3.0|   3.27417|\n",
            "|    471|Hudsucker Proxy, ...|Comedy|   602|    471|   4.0| 3.6692405|\n",
            "|    471|Hudsucker Proxy, ...|Comedy|    91|    471|   1.0| 2.5921195|\n",
            "|    471|Hudsucker Proxy, ...|Comedy|   409|    471|   3.0| 3.4604487|\n",
            "|    471|Hudsucker Proxy, ...|Comedy|   372|    471|   3.0| 2.9775312|\n",
            "|    471|Hudsucker Proxy, ...|Comedy|   599|    471|   2.5|  2.684288|\n",
            "+-------+--------------------+------+------+-------+------+----------+\n",
            "only showing top 10 rows\n",
            "\n"
          ]
        }
      ]
    },
    {
      "cell_type": "markdown",
      "source": [
        "## Recommend moive to users with id: 575, 232. \n"
      ],
      "metadata": {
        "id": "afA6OaeA1kZy"
      }
    },
    {
      "cell_type": "code",
      "source": [
        "# Generate top 10 movie recommendations for each user\n",
        "userRecs = bestModel.recommendForAllUsers(10)\n",
        "# Generate top 10 user recommendations for each movie\n",
        "movieRecs =bestModel.recommendForAllItems(10)\n",
        "\n",
        "\n",
        "  \n",
        "userRecs.show(5)\n"
      ],
      "metadata": {
        "colab": {
          "base_uri": "https://localhost:8080/"
        },
        "id": "xtabI9hyEe8E",
        "outputId": "b595bc50-a2e2-466f-ef35-4d22f5fc72f8"
      },
      "execution_count": null,
      "outputs": [
        {
          "output_type": "stream",
          "name": "stdout",
          "text": [
            "+------+--------------------+\n",
            "|userId|     recommendations|\n",
            "+------+--------------------+\n",
            "|   471|[{8235, 5.1001472...|\n",
            "|   463|[{3379, 5.2065144...|\n",
            "|   496|[{8633, 5.093732}...|\n",
            "|   148|[{67618, 4.744169...|\n",
            "|   540|[{3379, 5.4950104...|\n",
            "+------+--------------------+\n",
            "only showing top 5 rows\n",
            "\n"
          ]
        }
      ]
    },
    {
      "cell_type": "code",
      "source": [
        "userRecs.registerTempTable(\"als_recs_temp\")\n",
        "final_recs = spark.sql(\"SELECT userId,\\\n",
        "                               movieIds_and_ratings.movieId AS movieId,\\\n",
        "                               movieIds_and_ratings.rating AS prediction\\\n",
        "                               FROM als_recs_temp\\\n",
        "                               LATERAL VIEW explode(recommendations) exploded_table AS movieIds_and_ratings\")\n"
      ],
      "metadata": {
        "id": "u5n8trWTN9gu"
      },
      "execution_count": null,
      "outputs": []
    },
    {
      "cell_type": "code",
      "source": [
        "final_recs.show(5)"
      ],
      "metadata": {
        "colab": {
          "base_uri": "https://localhost:8080/"
        },
        "id": "IzON8mv8Pki2",
        "outputId": "9283542d-7232-485a-9040-d595a8c1cfef"
      },
      "execution_count": null,
      "outputs": [
        {
          "output_type": "stream",
          "name": "stdout",
          "text": [
            "+------+-------+----------+\n",
            "|userId|movieId|prediction|\n",
            "+------+-------+----------+\n",
            "|   471|   8235| 5.1001472|\n",
            "|   471|   4495| 5.1001472|\n",
            "|   471|   3379| 4.9312143|\n",
            "|   471|   6666|  4.846133|\n",
            "|   471|  26171|  4.839469|\n",
            "+------+-------+----------+\n",
            "only showing top 5 rows\n",
            "\n"
          ]
        }
      ]
    },
    {
      "cell_type": "code",
      "source": [
        "final_rec = fianl_recs.join(movie_ratings,['userId','movieId'],'left').filter(movie_ratings.rating.isNull())\n",
        "display(final_rec)\n",
        "#find out movies that users have not seen yet"
      ],
      "metadata": {
        "colab": {
          "base_uri": "https://localhost:8080/",
          "height": 34
        },
        "id": "3kc50lS1RzfA",
        "outputId": "219ea102-82cc-4bbe-8f11-c9df0eb424f1"
      },
      "execution_count": null,
      "outputs": [
        {
          "output_type": "display_data",
          "data": {
            "text/plain": [
              "DataFrame[userId: int, movieId: int, prediction: float, rating: float]"
            ]
          },
          "metadata": {}
        }
      ]
    },
    {
      "cell_type": "code",
      "source": [
        "final_rec.registerTempTable(\"final_rec\")\n",
        "movies.registerTempTable(\"movies_df\")"
      ],
      "metadata": {
        "id": "mh1dwIz4NRss"
      },
      "execution_count": null,
      "outputs": []
    },
    {
      "cell_type": "code",
      "source": [
        "#for 575\n",
        "user575=spark.sql(\"select userId, title FROM final_rec t1 LEFT JOIN movies_df t2 ON t1.movieId = t2.movieId WHERE t1.userId=575\")"
      ],
      "metadata": {
        "id": "krCu3pLVP-UW"
      },
      "execution_count": null,
      "outputs": []
    },
    {
      "cell_type": "code",
      "source": [
        "user575.show()"
      ],
      "metadata": {
        "colab": {
          "base_uri": "https://localhost:8080/"
        },
        "id": "D0iZfjFkNJhm",
        "outputId": "f7dc065b-f8ba-4979-d3d8-ade1ced9b6a4"
      },
      "execution_count": null,
      "outputs": [
        {
          "output_type": "stream",
          "name": "stdout",
          "text": [
            "+------+--------------------+\n",
            "|userId|               title|\n",
            "+------+--------------------+\n",
            "|   575|Come and See (Idi...|\n",
            "|   575|World of Tomorrow...|\n",
            "|   575|    Jetée, La (1962)|\n",
            "|   575|It's Such a Beaut...|\n",
            "|   575|Andalusian Dog, A...|\n",
            "|   575|        Frank (2014)|\n",
            "|   575|  Man on Wire (2008)|\n",
            "|   575|Raiders of the Lo...|\n",
            "|   575|Man Bites Dog (C'...|\n",
            "|   575|    Submarine (2010)|\n",
            "+------+--------------------+\n",
            "\n"
          ]
        }
      ]
    },
    {
      "cell_type": "code",
      "source": [
        "#for 233\n",
        "spark.sql(\"select userId, title FROM final_rec t1 LEFT JOIN movies_df t2 ON t1.movieId = t2.movieId WHERE t1.userId=233\").show()"
      ],
      "metadata": {
        "colab": {
          "base_uri": "https://localhost:8080/"
        },
        "id": "C6j2jc97Sp9P",
        "outputId": "7a35ae1a-bf1c-489b-ed3d-d9e8f50cce5e"
      },
      "execution_count": null,
      "outputs": [
        {
          "output_type": "stream",
          "name": "stdout",
          "text": [
            "+------+--------------------+\n",
            "|userId|               title|\n",
            "+------+--------------------+\n",
            "|   233|Discreet Charm of...|\n",
            "|   233|Crossing Delancey...|\n",
            "|   233| Safety Last! (1923)|\n",
            "|   233| On the Beach (1959)|\n",
            "|   233|Holy Mountain, Th...|\n",
            "|   233|Swept Away (Travo...|\n",
            "|   233|Rivers and Tides ...|\n",
            "|   233|   The Artist (2011)|\n",
            "|   233|Best of Youth, Th...|\n",
            "|   233|Beautiful Thing (...|\n",
            "+------+--------------------+\n",
            "\n"
          ]
        }
      ]
    },
    {
      "cell_type": "markdown",
      "source": [
        "## Write the report \n",
        "motivation:\n",
        "For online video resource providers, it is very important to attraction more and more customers and keep them on the website. In this case, a good movie recommandation system is important and effective for this objective. Starting from this motivation, I used data from Grouplens and try to train a model for movie recommandation based on user's seen movies and ratings.\n",
        "1. step1: Explortalary data analysis:\n",
        "I checked the structure of the data get a general understanding about the data such as number, genre classification and movies to recommand.\n",
        "2. step2: Look deeper into the movie genres.\n",
        "3. step3 : used ALS model  to train this movie recommandation model. Use grid search to find the best model and used cross validation to check our final model. \n",
        "\n",
        "4. step4  \n",
        "At last, this model can recommand ten movies when I input a user's ID and gived the out put based on the user's ratings"
      ],
      "metadata": {
        "id": "Cl79wv_YUalN"
      }
    }
  ]
}